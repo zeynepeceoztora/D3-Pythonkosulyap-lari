{
  "nbformat": 4,
  "nbformat_minor": 0,
  "metadata": {
    "colab": {
      "provenance": []
    },
    "kernelspec": {
      "name": "python3",
      "display_name": "Python 3"
    },
    "language_info": {
      "name": "python"
    }
  },
  "cells": [
    {
      "cell_type": "code",
      "execution_count": 2,
      "metadata": {
        "colab": {
          "base_uri": "https://localhost:8080/"
        },
        "id": "czj4jT82yyEO",
        "outputId": "4c1d704b-64f4-41c9-88a2-e87722b9eed9"
      },
      "outputs": [
        {
          "output_type": "stream",
          "name": "stdout",
          "text": [
            "Merhaba, İGÜ-İSTKA / Ders 4\n"
          ]
        }
      ],
      "source": [
        "print(\"Merhaba, İGÜ-İSTKA / Ders 4\")"
      ]
    },
    {
      "cell_type": "code",
      "source": [
        "from google.colab import drive #google colab - drive bağlantısı\n",
        "drive.mount('/content/drive')"
      ],
      "metadata": {
        "colab": {
          "base_uri": "https://localhost:8080/"
        },
        "id": "UCRFICYyzI9b",
        "outputId": "8b2ecdef-d2f1-4d6f-d1e6-6317c2c6da14"
      },
      "execution_count": 3,
      "outputs": [
        {
          "output_type": "stream",
          "name": "stdout",
          "text": [
            "Mounted at /content/drive\n"
          ]
        }
      ]
    },
    {
      "cell_type": "code",
      "source": [
        "import os\n",
        "os.chdir('/content/drive/My Drive/VERIYAPILARI_ISTKA')\n",
        "!pwd #bize kodun çıktısını dosya yolu olarak veren kod blogudur."
      ],
      "metadata": {
        "colab": {
          "base_uri": "https://localhost:8080/"
        },
        "id": "z6ZXp7Fyzjy0",
        "outputId": "0df0d357-0467-4724-c882-09cbd87c8d89"
      },
      "execution_count": 4,
      "outputs": [
        {
          "output_type": "stream",
          "name": "stdout",
          "text": [
            "/content/drive/My Drive/VERIYAPILARI_ISTKA\n"
          ]
        }
      ]
    },
    {
      "cell_type": "code",
      "source": [
        "# if koşul yapısı\n",
        "x = 10\n",
        "if x > 5:\n",
        "  print(\"x, 5'ten büyüktür.\")"
      ],
      "metadata": {
        "colab": {
          "base_uri": "https://localhost:8080/"
        },
        "id": "OGV1dWroGzu5",
        "outputId": "b8efc7e8-16cd-4e20-a77d-ae4268eb058f"
      },
      "execution_count": 5,
      "outputs": [
        {
          "output_type": "stream",
          "name": "stdout",
          "text": [
            "x, 5'ten büyüktür.\n"
          ]
        }
      ]
    },
    {
      "cell_type": "code",
      "source": [
        "# if-else koşulu yapısı\n",
        "x = 3\n",
        "if x > 5:\n",
        "  print(\"x, 5'ten büyüktür.\")\n",
        "else:\n",
        "  print(\"x, 5'ten küçük veya eşittir.\")"
      ],
      "metadata": {
        "colab": {
          "base_uri": "https://localhost:8080/"
        },
        "id": "8mf02SbqIVkZ",
        "outputId": "fa3e94dc-9c49-48f4-c387-df16df295717"
      },
      "execution_count": 6,
      "outputs": [
        {
          "output_type": "stream",
          "name": "stdout",
          "text": [
            "x, 5'ten küçük veya eşittir.\n"
          ]
        }
      ]
    },
    {
      "cell_type": "code",
      "source": [
        "# if-ifelif-else koşul yapısı\n",
        "x = 8\n",
        "if x > 10:\n",
        "  print(\"x, 10'dan büyüktür.\")\n",
        "elif x > 5:\n",
        "  print(\"x, 5'ten büyüktür ama 10'dan küçük veya eşittir.\")\n",
        "else:\n",
        "  print(\"x, 5'ten küçük veya eşittir.\")"
      ],
      "metadata": {
        "colab": {
          "base_uri": "https://localhost:8080/"
        },
        "id": "gB-WdoRiJkr6",
        "outputId": "34dc04f0-98d1-4d13-e879-ecd559bfe5f6"
      },
      "execution_count": 7,
      "outputs": [
        {
          "output_type": "stream",
          "name": "stdout",
          "text": [
            "x, 5'ten büyüktür ama 10'dan küçük veya eşittir.\n"
          ]
        }
      ]
    },
    {
      "cell_type": "code",
      "source": [
        "# iç içe koşul yapısı\n",
        "x = 12\n",
        "y = 8\n",
        "if x > 10:\n",
        "  if y > 5:\n",
        "    print(\"x, 10'dan büyük ve y, 5'ten büyüktür.\") #bu satır çalışır\n",
        "  else:\n",
        "    print(\"x, 10'dan büyük ama y, 5'ten küçük veya eşittir.\")\n",
        "else:\n",
        "  print(\"x, 102dan küçük veya eşittir.\")"
      ],
      "metadata": {
        "colab": {
          "base_uri": "https://localhost:8080/"
        },
        "id": "vDQzb4b7K9TB",
        "outputId": "62322dbc-81df-4794-9c47-3fa80abef23e"
      },
      "execution_count": 8,
      "outputs": [
        {
          "output_type": "stream",
          "name": "stdout",
          "text": [
            "x, 10'dan büyük ve y, 5'ten büyüktür.\n"
          ]
        }
      ]
    },
    {
      "cell_type": "code",
      "source": [
        "# Mantıksal Operatörler ile koşullar\n",
        "x = 7\n",
        "y = 3\n",
        "# 'and' operatörü ile\n",
        "if x > 5 and y > 2:\n",
        "  print(\"x, 5'ten büyük ve y, 2'den büyüktür.\") #bu satır çalışır\n",
        "# 'or' operatörü ile\n",
        "if x > 5 or y < 5:\n",
        "  print(\"x veya y, 5'ten büyüktür\") #bu satır çalışır\n",
        "# 'not' operatörü ile\n",
        "if not (x > 10):\n",
        "  print(\"x, 10'dan büyük değildir\")"
      ],
      "metadata": {
        "colab": {
          "base_uri": "https://localhost:8080/"
        },
        "id": "I_toTxNvN2By",
        "outputId": "a9b129ca-2abe-492f-993e-1f6ca640c07e"
      },
      "execution_count": 1,
      "outputs": [
        {
          "output_type": "stream",
          "name": "stdout",
          "text": [
            "x, 5'ten büyük ve y, 2'den büyüktür.\n",
            "x veya y, 5'ten büyüktür\n",
            "x, 10'dan büyük değildir\n"
          ]
        }
      ]
    },
    {
      "cell_type": "code",
      "source": [
        "# Örnek 1: Not Sistemi\n",
        "notu = 85 #not farkını gösterilecek\n",
        "if notu >= 90:\n",
        "  print(\"Harf notu: A\")\n",
        "elif notu >= 80:\n",
        "  print(\"Harf notu: B\") #bu satır çalışır\n",
        "elif notu >= 70:\n",
        "  print(\"Harf notu: C\")\n",
        "elif notu >= 60:\n",
        "  print(\"Harf notu: D\")\n",
        "else:\n",
        "  print(\"Harf notu: F\")"
      ],
      "metadata": {
        "colab": {
          "base_uri": "https://localhost:8080/"
        },
        "id": "EZ-iMeU-RVUU",
        "outputId": "3dc89429-903b-4f70-dab8-965a50ac3866"
      },
      "execution_count": 11,
      "outputs": [
        {
          "output_type": "stream",
          "name": "stdout",
          "text": [
            "Harf notu: B\n"
          ]
        }
      ]
    },
    {
      "cell_type": "code",
      "source": [
        "# Örnek 2: Yaş kontrolü\n",
        "yas = 20\n",
        "if yas < 18:\n",
        "  print(\"reşit değilsiniz.\")\n",
        "elif yas < 21:\n",
        "  print(\"Reşitsiniz ama içecek satın alamazsınız.\")\n",
        "else:\n",
        "  print(\"İçecek satın alabilirsiniz.\")"
      ],
      "metadata": {
        "colab": {
          "base_uri": "https://localhost:8080/"
        },
        "id": "omQ-UQe3S8a8",
        "outputId": "e8e43e53-f9b5-490b-bbdc-7a1f8b41d045"
      },
      "execution_count": 12,
      "outputs": [
        {
          "output_type": "stream",
          "name": "stdout",
          "text": [
            "Reşitsiniz ama içecek satın alamazsınız.\n"
          ]
        }
      ]
    },
    {
      "cell_type": "code",
      "source": [
        "# Örnek 3: Sayı Pozitif, Negatif veya Sıfır mı?\n",
        "sayi = -5\n",
        "if sayi > 0:\n",
        "  print(\"Sayı pozitiftir.\")\n",
        "elif sayi < 0:\n",
        "  print(\"Sayı negatiftir.\")\n",
        "else:\n",
        "  print(\"Sayı sıfırdır.\")"
      ],
      "metadata": {
        "colab": {
          "base_uri": "https://localhost:8080/"
        },
        "id": "J3xHxyCZUcwr",
        "outputId": "e1708dc4-2316-42da-d7a5-e4c77a0d2018"
      },
      "execution_count": 13,
      "outputs": [
        {
          "output_type": "stream",
          "name": "stdout",
          "text": [
            "Sayı negatiftir.\n"
          ]
        }
      ]
    }
  ]
}